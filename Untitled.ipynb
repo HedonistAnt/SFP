{
 "cells": [
  {
   "cell_type": "markdown",
   "metadata": {},
   "source": [
    "#### 1.  System"
   ]
  },
  {
   "cell_type": "markdown",
   "metadata": {},
   "source": [
    "<center>\n",
    "$\\frac{I_{max} + I_{min}}{2} + \\frac{I_{max} - I_{min}}{2} cos(2(0 - \\phi)) - I_1 = 0 ,\n",
    "\\\\\n",
    "\\frac{I_{max} + I_{min}}{2} + \\frac{I_{max} - I_{min}}{2} cos(2(\\frac{\\pi}{4} -\\phi)) - I_2 = 0 ,\n",
    "\\\\\n",
    "\\frac{I_{max} + I_{min}}{2} + \\frac{I_{max} - I_{min}}{2} cos(2(\\frac{\\pi}{2} - \\phi)) - I_3 = 0 ,\n",
    "$\n",
    "<center/>"
   ]
  },
  {
   "cell_type": "markdown",
   "metadata": {},
   "source": [
    "<center>\n",
    "$\\sim$\n",
    "    <center/>"
   ]
  },
  {
   "cell_type": "markdown",
   "metadata": {},
   "source": [
    "<center>\n",
    "$\\frac{I_{max} + I_{min}}{2} + \\frac{I_{max} - I_{min}}{2} cos(2\\phi) - I_1 = 0 , \\; \\;(1)\n",
    "\\\\\n",
    "\\frac{I_{max} + I_{min}}{2} + \\frac{I_{max} - I_{min}}{2} sin(2\\phi) - I_2 = 0 , \\; \\; (2) \n",
    "\\\\\n",
    "\\frac{I_{max} + I_{min}}{2} - \\frac{I_{max} - I_{min}}{2} cos(2\\phi) - I_3 = 0 , \\; \\; (3)\n",
    "$\n",
    "    <center/>"
   ]
  },
  {
   "cell_type": "markdown",
   "metadata": {},
   "source": [
    "<center>\n",
    "$(1) + (3) => I_{max} + I_{min} = I_1 + I_3 \\; \\; (*)$\n",
    "<center/>"
   ]
  },
  {
   "cell_type": "markdown",
   "metadata": {},
   "source": [
    "<center>\n",
    "Subs. $(*)$ into $(2)$: $ \\; I_1 + I_3  + (I_1 + I_3 - 2I_{min})\\sin(2\\phi) - 2I_2 = 0$\n",
    "<center/>\n",
    "   \n"
   ]
  },
  {
   "cell_type": "markdown",
   "metadata": {},
   "source": [
    "<center>$ I_{min} = \\frac{(I_1 + I_3)(\\sin(2 \\phi) + 1) - 2I_2}{ \\sin (2 \\phi) },$ <center/>\n"
   ]
  },
  {
   "cell_type": "markdown",
   "metadata": {},
   "source": [
    "<center>\n",
    "$I_{max} = I_1 + I_3 - \\frac{(I_1 + I_3)(\\sin(2 \\phi) + 1) - 2I_2}{ \\sin (2 \\phi) } $\n",
    "    <center/>"
   ]
  },
  {
   "cell_type": "markdown",
   "metadata": {},
   "source": [
    "<center>\n",
    "Subs. $I_{min} , I_{max}$ into $(1)$ and solve for $\\phi$\n",
    "    <center/>"
   ]
  },
  {
   "cell_type": "markdown",
   "metadata": {},
   "source": [
    "<center>\n",
    "$\\phi = \\tan(0.5(I_1-I_3 - \\sqrt{(I_1 - I3)^2+4})) + \\pi n$, \n",
    "         <center/>\n",
    " "
   ]
  },
  {
   "cell_type": "markdown",
   "metadata": {},
   "source": [
    "   <center>\n",
    "$If$  $I_1^2 - 2I_3I_1 - I_1 \\sqrt{I_1^2 - 2I_3I_1 + I_3^2 +4}+ I_3^2 + I_3 \\sqrt{I_1^2 -2I_1I_3+ I_3^2 + 4} + 4 \\neq 0 $ \n",
    "<center/>"
   ]
  },
  {
   "cell_type": "markdown",
   "metadata": {},
   "source": [
    "<center>\n",
    "$else$\n",
    "\n",
    "\n",
    "<center/>"
   ]
  },
  {
   "cell_type": "markdown",
   "metadata": {},
   "source": [
    "<center>\n",
    "$\\phi = \\tan(0.5(I_1-I_3 + \\sqrt{(I_1 - I3)^2+4})) + \\pi n$\n",
    "    <center/>"
   ]
  },
  {
   "cell_type": "code",
   "execution_count": 4,
   "metadata": {},
   "outputs": [],
   "source": [
    "def solve_system(I):\n",
    "    i1, i2, i3 = I[0], I[1], I[2]\n",
    "    if abs(i1 ** 2 - 2 * i3 * i1 - sqrt(i1 ** 2 - 2 * i3 * i1 + i3 ** 2 + 4) * i1 + i3 ** 2 + i3 * sqrt(\n",
    "                                            i1 ** 2 - 2 * i1 * i3 + i3 ** 2 + 4) + 4) > 0.001:\n",
    "        phi_value = tan(0.5 * (i1 - i3 - sqrt((i3 - i1) ** 2 + 4)))\n",
    "    else:\n",
    "        phi_value = tan(0.5 * (i1 - i3 + sqrt((i3 - i1) ** 2 + 4)))\n",
    "\n",
    "    while (phi_value < 0.0):\n",
    "        phi_value += 2 * pi\n",
    "\n",
    "    imin_value = ((i1 + i3) * (1 + sin(2 * phi_value)) - 2 * i2) / (2 * sin(2 * phi_value))\n",
    "    imax_value = i1 + i3 - ((i1 + i3) * (1 + sin(2 * phi_value)) - 2 * i2) / (2 * sin(2 * phi_value))\n",
    "\n",
    "    return imax_value, imin_value, phi_value"
   ]
  },
  {
   "cell_type": "code",
   "execution_count": null,
   "metadata": {},
   "outputs": [],
   "source": []
  }
 ],
 "metadata": {
  "kernelspec": {
   "display_name": "Python 3",
   "language": "python",
   "name": "python3"
  },
  "language_info": {
   "codemirror_mode": {
    "name": "ipython",
    "version": 3
   },
   "file_extension": ".py",
   "mimetype": "text/x-python",
   "name": "python",
   "nbconvert_exporter": "python",
   "pygments_lexer": "ipython3",
   "version": "3.5.2"
  }
 },
 "nbformat": 4,
 "nbformat_minor": 2
}
